{
 "cells": [
  {
   "cell_type": "code",
   "execution_count": 61,
   "metadata": {},
   "outputs": [],
   "source": [
    "from selenium import webdriver\n",
    "from selenium.webdriver.common.keys import Keys\n",
    "from datetime import timedelta, date\n",
    "from time import sleep\n",
    "import os"
   ]
  },
  {
   "cell_type": "code",
   "execution_count": 62,
   "metadata": {},
   "outputs": [],
   "source": [
    "# 초기화\n",
    "\n",
    "driver = webdriver.Chrome('./chromedriver')\n",
    "driver.implicitly_wait(3)\n",
    "\n",
    "driver.get('http://marketdata.krx.co.kr/contents/MKD/04/0406/04060100/MKD04060100.jsp')\n",
    "\n",
    "def fc(selector):\n",
    "    driver.find_element_by_css_selector(selector).click()\n",
    "    sleep(1)\n",
    "    \n",
    "fc('body > div.html-wrap > div.header-wrap > div > div.breadcrumb-wrap > div > div:nth-child(3) > button')\n",
    "fc('body > div.html-wrap > div.header-wrap > div > div.breadcrumb-wrap > div > div:nth-child(3) > ul > li:nth-child(4) > a')\n",
    "fc('body > div.html-wrap > div.header-wrap > div > div.breadcrumb-wrap > div > div:nth-child(4)')\n",
    "fc('body > div.html-wrap > div.header-wrap > div > div.breadcrumb-wrap > div > div:nth-child(4) > ul > li:nth-child(2) > a')\n",
    "fc('#market_gubun1a1d0c6e83f027327d8461063f4ac58a6') # 코스피만 받는다"
   ]
  },
  {
   "cell_type": "code",
   "execution_count": 63,
   "metadata": {},
   "outputs": [],
   "source": [
    "def find_and_download(datetime_str):\n",
    "    os.system('rm ~/Downloads/data.csv')\n",
    "    \n",
    "    date_form = driver.find_element_by_css_selector('#schdate6c8349cc7260ae62e3b1396831a8398f')\n",
    "    date_form.send_keys(Keys.CONTROL, 'a')\n",
    "    date_form.send_keys('\\b')\n",
    "    date_form.send_keys(datetime_str)\n",
    "\n",
    "    fc('#btnidd645920e395fedad7bbbed0eca3fe2e0')\n",
    "    sleep(5)\n",
    "\n",
    "    fc('#d9d4f495e875a2e075a1a4a6e1b9770f > button:nth-child(7)')\n",
    "    sleep(5)\n",
    "    \n",
    "    os.system(f'mv ~/Downloads/data.csv ./data/{datetime_str}.csv')"
   ]
  },
  {
   "cell_type": "code",
   "execution_count": 7,
   "metadata": {},
   "outputs": [],
   "source": [
    "# 오늘까지 크롤링\n",
    "\n",
    "d = date(2001, 1, 1)\n",
    "t = date.today()\n",
    "\n",
    "while d < t:\n",
    "    d_str = d.strftime('%Y%m%d')\n",
    "    find_and_download(d_str)\n",
    "    d += timedelta(1)"
   ]
  },
  {
   "cell_type": "code",
   "execution_count": 64,
   "metadata": {},
   "outputs": [],
   "source": [
    "# 누락된 파일 재시도\n",
    "\n",
    "filelist = os.listdir('./data')\n",
    "filelist = [x.split('.')[0] for x in filelist]\n",
    "\n",
    "d = date(2001, 1, 1)\n",
    "t = date.today()\n",
    "\n",
    "while d < t:\n",
    "    d_str = d.strftime('%Y%m%d')\n",
    "    if d_str not in filelist:\n",
    "        print(d_str)\n",
    "        find_and_download(d_str)\n",
    "    d += timedelta(1)\n"
   ]
  },
  {
   "cell_type": "code",
   "execution_count": 66,
   "metadata": {},
   "outputs": [],
   "source": [
    "# 주말 제외한 휴일 재시도\n",
    "d = date(2001, 1, 1)\n",
    "t = date.today()\n",
    "\n",
    "while d < t:\n",
    "    d_str = d.strftime('%Y%m%d')\n",
    "    filepath = './data/' + d_str + '.csv'\n",
    "\n",
    "    # 주말이 아닌데 빈 파일인 경우\n",
    "    if os.stat(filepath).st_size < 1024 and d.weekday() not in [5, 6]:\n",
    "        find_and_download(d_str)\n",
    "        \n",
    "    d += timedelta(1)"
   ]
  },
  {
   "cell_type": "code",
   "execution_count": 68,
   "metadata": {},
   "outputs": [],
   "source": [
    "# MD5 중복된 파일 검사 후 재시도\n",
    "\n",
    "import hashlib\n",
    "\n",
    "filelist = os.listdir('./data')\n",
    "filelist.sort()\n",
    "\n",
    "md5_dic = {}\n",
    "for filename in filelist:\n",
    "    filepath = './data/' + filename\n",
    "    \n",
    "    if os.stat(filepath).st_size < 1024:  # 1K 이하 파일은 거른다\n",
    "        continue\n",
    "    \n",
    "    with open(filepath, 'rb') as f:\n",
    "        k = hashlib.md5(f.read()).hexdigest()\n",
    "    \n",
    "    if k in md5_dic:\n",
    "        md5_dic[k].append(filepath)\n",
    "    else:\n",
    "        md5_dic[k] = [filepath]\n",
    "\n",
    "same_files = []\n",
    "for k in md5_dic:\n",
    "    if len(md5_dic[k]) > 1:\n",
    "        print(md5_dic[k])\n",
    "        same_files += md5_dic[k]\n",
    "        \n",
    "retry_dates = [x.split('/')[-1][:8] for x in same_files]\n",
    "\n",
    "for date_str in retry_dates:\n",
    "    find_and_download(date_str)"
   ]
  },
  {
   "cell_type": "code",
   "execution_count": null,
   "metadata": {},
   "outputs": [],
   "source": []
  }
 ],
 "metadata": {
  "kernelspec": {
   "display_name": "Python 3",
   "language": "python",
   "name": "python3"
  },
  "language_info": {
   "codemirror_mode": {
    "name": "ipython",
    "version": 3
   },
   "file_extension": ".py",
   "mimetype": "text/x-python",
   "name": "python",
   "nbconvert_exporter": "python",
   "pygments_lexer": "ipython3",
   "version": "3.7.0"
  }
 },
 "nbformat": 4,
 "nbformat_minor": 2
}
